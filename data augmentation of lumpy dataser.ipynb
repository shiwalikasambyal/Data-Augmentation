{
 "cells": [
  {
   "cell_type": "code",
   "execution_count": 1,
   "id": "c6bd41e9",
   "metadata": {},
   "outputs": [],
   "source": [
    "from keras.preprocessing.image import ImageDataGenerator\n",
    "from skimage import io\n",
    "\n",
    "# Construct an instance of the ImageDataGenerator class\n",
    "# Pass the augmentation parameters through the constructor. \n",
    "\n",
    "datagen = ImageDataGenerator(\n",
    "        rotation_range=45,     #Random rotation between 0 and 45\n",
    "        width_shift_range=0.2,   #% shift\n",
    "        height_shift_range=0.2,\n",
    "        shear_range=0.2,\n",
    "        zoom_range=0.2,\n",
    "        horizontal_flip=True,\n",
    "        fill_mode='reflect', cval=125) "
   ]
  },
  {
   "cell_type": "code",
   "execution_count": 2,
   "id": "57b45558",
   "metadata": {},
   "outputs": [],
   "source": [
    "#Multiple images.\n",
    "#Manually read each image and create an array to be supplied to datagen via flow method\n",
    "dataset = []\n",
    "\n",
    "import numpy as np\n",
    "from skimage import io\n",
    "import os\n",
    "from PIL import Image\n",
    "\n",
    "image_directory = 'C:\\\\Users\\\\computer world\\\\Desktop\\\\lumpy datasetr\\\\Lumpy Skin/'\n",
    "SIZE = 256\n",
    "dataset = []\n",
    "\n",
    "my_images = os.listdir(image_directory)\n",
    "for i, image_name in enumerate(my_images):\n",
    "    if (image_name.split('.')[1] == 'png'):\n",
    "        image = io.imread(image_directory + image_name)\n",
    "        image = Image.fromarray(image, 'RGB')\n",
    "        image = image.resize((SIZE,SIZE))\n",
    "        dataset.append(np.array(image))\n",
    "\n",
    "x = np.array(dataset)"
   ]
  },
  {
   "cell_type": "code",
   "execution_count": 3,
   "id": "f417a383",
   "metadata": {},
   "outputs": [],
   "source": [
    "#Let us save images to get a feel for the augmented images.\n",
    "#Create an iterator either by using image dataset in memory (using flow() function)\n",
    "#or by using image dataset from a directory (using flow_from_directory)\n",
    "#from directory can beuseful if subdirectories are organized by class\n",
    "   \n",
    "# Generating and saving 10 augmented samples  \n",
    "# using the above defined parameters.  \n",
    "#Again, flow generates batches of randomly augmented images\n",
    " \n",
    "i = 0\n",
    "for batch in datagen.flow(x, batch_size=10,  \n",
    "                          save_to_dir='lumpy augmented', \n",
    "                          save_prefix='Lumpy_Skin', \n",
    "                          save_format='png'):\n",
    "    i += 1\n",
    "    if i > 50:\n",
    "        break  # otherwise the generator would loop indefinitely  "
   ]
  },
  {
   "cell_type": "code",
   "execution_count": null,
   "id": "5955da28",
   "metadata": {},
   "outputs": [],
   "source": []
  }
 ],
 "metadata": {
  "kernelspec": {
   "display_name": "Python 3 (ipykernel)",
   "language": "python",
   "name": "python3"
  },
  "language_info": {
   "codemirror_mode": {
    "name": "ipython",
    "version": 3
   },
   "file_extension": ".py",
   "mimetype": "text/x-python",
   "name": "python",
   "nbconvert_exporter": "python",
   "pygments_lexer": "ipython3",
   "version": "3.10.7"
  }
 },
 "nbformat": 4,
 "nbformat_minor": 5
}
